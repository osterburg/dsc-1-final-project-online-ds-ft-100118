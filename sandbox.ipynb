{
 "cells": [
  {
   "cell_type": "code",
   "execution_count": 1,
   "metadata": {},
   "outputs": [],
   "source": [
    "# Your code here - remember to use markdown cells for comments as well!\n",
    "import os\n",
    "import re\n",
    "import math\n",
    "import json\n",
    "\n",
    "import pandas as pd\n",
    "import numpy as np\n",
    "\n",
    "from scipy import stats, linalg\n",
    "\n",
    "from sklearn import linear_model\n",
    "from sklearn import neighbors\n",
    "from sklearn import preprocessing\n",
    "from sklearn.metrics import mean_squared_error\n",
    "\n",
    "\n",
    "import missingno as msno\n",
    "\n",
    "import matplotlib.pyplot as plt\n",
    "%matplotlib inline\n",
    "\n",
    "import seaborn as sns\n",
    "# set style\n",
    "sns.set_style('whitegrid')\n",
    "# overriding font size and line width\n",
    "sns.set_context(\"notebook\", font_scale=1.5, rc={\"lines.linewidth\": 2.5})\n",
    "\n",
    "# map visualization\n",
    "import folium\n",
    "\n",
    "# don't print matching warnings\n",
    "import warnings\n",
    "warnings.filterwarnings('ignore') \n",
    "\n"
   ]
  },
  {
   "cell_type": "code",
   "execution_count": 2,
   "metadata": {},
   "outputs": [],
   "source": [
    "# read data and read date correctly\n",
    "kc_df = pd.read_csv(\"kc_house_data.csv\", parse_dates = ['date'])"
   ]
  },
  {
   "cell_type": "code",
   "execution_count": null,
   "metadata": {},
   "outputs": [],
   "source": [
    "fig = plt.figure(figsize=(16, 8))\n",
    "sns.heatmap(kc_df.isnull(), yticklabels=False, cbar=False, cmap='viridis')"
   ]
  },
  {
   "cell_type": "code",
   "execution_count": null,
   "metadata": {},
   "outputs": [],
   "source": [
    "sns.distplot(kc_df.sqft_living15, bins=50, kde=True, label='sqft_living15')"
   ]
  },
  {
   "cell_type": "code",
   "execution_count": null,
   "metadata": {},
   "outputs": [],
   "source": [
    "sns.distplot(kc_df.price, bins=50, kde=True, label='price')"
   ]
  },
  {
   "cell_type": "code",
   "execution_count": null,
   "metadata": {},
   "outputs": [],
   "source": [
    "\n",
    "kc_df['yr_built'] = pd.to_datetime(kc_df['yr_built'])\n",
    "kc_df['yr_built'] = kc_df['yr_built'].dt.year\n",
    "kc_df.head()\n",
    "# kc_df['yr_renovated'] = pd.to_datetime(kc_df['yr_renovated']).dt.year"
   ]
  },
  {
   "cell_type": "code",
   "execution_count": null,
   "metadata": {},
   "outputs": [],
   "source": [
    "kc_df.shape"
   ]
  },
  {
   "cell_type": "code",
   "execution_count": null,
   "metadata": {},
   "outputs": [],
   "source": [
    "# get the mean value across all data points\n",
    "zipcode_data = kc_df.groupby('zipcode').aggregate(np.mean)\n",
    "zipcode_data.reset_index(inplace = True)\n",
    "zipcode_data = zipcode_data[['zipcode']]"
   ]
  },
  {
   "cell_type": "code",
   "execution_count": null,
   "metadata": {
    "scrolled": true
   },
   "outputs": [],
   "source": [
    "temp = kc_df.groupby('zipcode', as_index=False)['price'].aggregate(np.mean)\n",
    "temp.price = np.floor(temp.price)\n",
    "zipcode_data = pd.merge(zipcode_data, temp, on='zipcode')"
   ]
  },
  {
   "cell_type": "code",
   "execution_count": null,
   "metadata": {},
   "outputs": [],
   "source": [
    "temp = kc_df.groupby('zipcode', as_index=False)['sqft_living15'].aggregate(np.mean)\n",
    "temp.sqft_living15 = np.floor(temp.sqft_living15)\n",
    "zipcode_data = pd.merge(zipcode_data, temp, on='zipcode')"
   ]
  },
  {
   "cell_type": "code",
   "execution_count": null,
   "metadata": {},
   "outputs": [],
   "source": [
    "# count number of entries grouped by zipcode\n",
    "kc_df['count'] = 1\n",
    "\n",
    "temp_df = kc_df.groupby('zipcode').sum()\n",
    "temp_df.reset_index(inplace = True)\n",
    "temp_df = temp_df[['zipcode', 'count']]\n",
    "\n",
    "kc_df.drop(['count'], axis = 1, inplace = True)\n",
    "\n",
    "zipcode_data = pd.merge(zipcode_data, temp_df, on='zipcode')"
   ]
  },
  {
   "cell_type": "code",
   "execution_count": null,
   "metadata": {},
   "outputs": [],
   "source": [
    "zipcode_data.head(2)"
   ]
  },
  {
   "cell_type": "code",
   "execution_count": null,
   "metadata": {},
   "outputs": [],
   "source": [
    "del temp_df"
   ]
  },
  {
   "cell_type": "code",
   "execution_count": null,
   "metadata": {},
   "outputs": [],
   "source": [
    "kc_df['yr_built'] = pd.to_datetime(kc_df['yr_built']).dt.year\n",
    "# kc_df['yr_renovated'] = pd.to_datetime(kc_df['yr_renovated']).dt.year\n",
    "\n",
    "kc_df.head()"
   ]
  },
  {
   "cell_type": "code",
   "execution_count": null,
   "metadata": {},
   "outputs": [],
   "source": [
    "kc_df['count'] = 1\n",
    "kc_df.groupby('zipcode').sum()\n",
    "\n"
   ]
  },
  {
   "cell_type": "code",
   "execution_count": null,
   "metadata": {},
   "outputs": [],
   "source": [
    "# total = kc_df.isnull().sum().sort_values(ascending=False)\n",
    "\n",
    "# calc percent of total null values\n",
    "\n",
    "# missing_data = pd.concat([total, percent], axis=1, keys=['Total', 'Percent'])\n",
    "# missing_data.head()"
   ]
  },
  {
   "cell_type": "code",
   "execution_count": null,
   "metadata": {},
   "outputs": [],
   "source": [
    "kc_df.dtypes"
   ]
  },
  {
   "cell_type": "code",
   "execution_count": null,
   "metadata": {},
   "outputs": [],
   "source": [
    "kc_df.head()"
   ]
  },
  {
   "cell_type": "code",
   "execution_count": null,
   "metadata": {},
   "outputs": [],
   "source": [
    "kc_df.shape"
   ]
  },
  {
   "cell_type": "code",
   "execution_count": null,
   "metadata": {},
   "outputs": [],
   "source": [
    "# Display all missing data\n",
    "msno.matrix(kc_df)"
   ]
  },
  {
   "cell_type": "code",
   "execution_count": null,
   "metadata": {},
   "outputs": [],
   "source": [
    "# Set zipcode type to string\n",
    "kc_df['zipcode'] = kc_df['zipcode'].astype('str')\n",
    "\n",
    "# Convert sqft_basement to int\n",
    "kc_df['sqft_basement'] = pd.to_numeric(kc_df['sqft_basement'], errors='coerce')\n",
    "\n",
    "# set category and order them\n",
    "kc_df['grade'] = kc_df['grade'].astype('category', ordered = False)\n",
    "# data['waterfront'] = data['waterfront'].astype('category', ordered = True)\n",
    "kc_df['condition'] = kc_df['condition'].astype('category', ordered = True)\n",
    "\n",
    "# Drop columns which are not in the offical dataset (kaggle) and might mess up our stuff\n",
    "# data.drop(columns=['sqft_living15', 'sqft_lot15'], inplace=True)\n",
    "\n",
    "# sort data by date\n",
    "kc_df = kc_df.sort_values(by = ['date'])"
   ]
  },
  {
   "cell_type": "code",
   "execution_count": null,
   "metadata": {},
   "outputs": [],
   "source": [
    "# get the mean value across all data points\n",
    "zipcode_data = kc_df.groupby('zipcode').aggregate(np.mean)\n",
    "zipcode_data.reset_index(inplace = True)\n",
    "\n",
    "# count number of entries grouped by zipcode\n",
    "kc_df['count'] = 1\n",
    "\n",
    "temp_df = kc_df.groupby('zipcode').sum()\n",
    "temp_df.reset_index(inplace = True)\n",
    "temp_df = temp_df[['zipcode', 'count']]\n",
    "\n",
    "# kc_df.drop(['count'], axis = 1, inplace = True)\n",
    "\n",
    "# merge the count values into the zipcode data\n",
    "zipcode_data = pd.merge(zipcode_data, temp_df, how='left', on=['zipcode'])\n",
    "zipcode_data.head(2)"
   ]
  },
  {
   "cell_type": "code",
   "execution_count": null,
   "metadata": {},
   "outputs": [],
   "source": [
    "# Get geo data file path\n",
    "geo_data_file = os.path.join('data', 'king_county_wa_zipcode_area.geojson')\n",
    "\n",
    "# load GeoJSON\n",
    "with open(geo_data_file, 'r') as jsonFile:\n",
    "    geo_data = json.load(jsonFile)\n",
    "    \n",
    "tmp = geo_data\n",
    "\n",
    "# remove ZIP codes not in geo data\n",
    "geozips = []\n",
    "for i in range(len(tmp['features'])):\n",
    "    if tmp['features'][i]['properties']['ZIPCODE'] in list(zipcode_data['zipcode'].unique()):\n",
    "        geozips.append(tmp['features'][i])\n",
    "\n",
    "# creating new JSON object\n",
    "new_json = dict.fromkeys(['type','features'])\n",
    "new_json['type'] = 'FeatureCollection'\n",
    "new_json['features'] = geozips\n",
    "\n",
    "# save uodated JSON object\n",
    "open(\"cleaned_geodata.json\", \"w\").write(\n",
    "    json.dumps(new_json, sort_keys=True, indent=4, separators=(',', ': '))\n",
    ")"
   ]
  },
  {
   "cell_type": "code",
   "execution_count": null,
   "metadata": {},
   "outputs": [],
   "source": [
    "def show_zipcode_map(col):\n",
    "    # read updated geo data\n",
    "    king_geo = \"cleaned_geodata.json\"\n",
    "    \n",
    "    # Initialize Folium Map with Seattle latitude and longitude\n",
    "    m = folium.Map(location=[47.35, -121.9], zoom_start=9, \n",
    "        detect_retina = True, control_scale=False)\n",
    "\n",
    "    # Create choropleth map\n",
    "    m.choropleth(\n",
    "        geo_data = king_geo,\n",
    "        name = 'choropleth',\n",
    "        data = zipcode_data,\n",
    "        # col: feature of interest\n",
    "        columns = ['zipcode', 'count'], \n",
    "        key_on = 'feature.properties.ZIPCODE',\n",
    "        fill_color = 'OrRd', \n",
    "        fill_opacity = 0.7,\n",
    "        line_opacity = 0.2,\n",
    "        legend_name = 'count'\n",
    "    )\n",
    "\n",
    "    folium.LayerControl().add_to(m)\n",
    "    # Save map based on feature of interest\n",
    "    m.save(col + '.html')\n",
    "    \n",
    "    return m\n",
    "    \n",
    "show_zipcode_map('count')"
   ]
  },
  {
   "cell_type": "code",
   "execution_count": null,
   "metadata": {},
   "outputs": [],
   "source": [
    "data = kc_df.copy()\n",
    "data.drop(['id', 'date'], axis=1, inplace=True)"
   ]
  },
  {
   "cell_type": "code",
   "execution_count": null,
   "metadata": {
    "scrolled": true
   },
   "outputs": [],
   "source": [
    "scaler = preprocessing.RobustScaler()\n",
    "robust_scaled_df = scaler.fit_transform(data)\n",
    "robust_scaled_df = pd.DataFrame(robust_scaled_df)"
   ]
  },
  {
   "cell_type": "code",
   "execution_count": null,
   "metadata": {},
   "outputs": [],
   "source": [
    "import statsmodels.api as sms\n",
    "\n",
    "X = data.sqft_living15\n",
    "X = sms.add_constant(X)\n",
    "y = data.price\n",
    "\n",
    "model = sms.OLS(y, X).fit()\n",
    "model.summary()"
   ]
  },
  {
   "cell_type": "code",
   "execution_count": null,
   "metadata": {},
   "outputs": [],
   "source": [
    "kc_df['zipcode'].unique()"
   ]
  },
  {
   "cell_type": "code",
   "execution_count": null,
   "metadata": {},
   "outputs": [],
   "source": [
    "cols = ['price', 'sqft_living15', 'sqft_lot15', 'count', 'yr_built', 'zipcode']\n",
    "sns.pairplot(kc_df[cols], hue = 'price', diag_kind = 'kde',\n",
    "             plot_kws = {'alpha': 0.6, 's': 80, 'edgecolor': 'k'},\n",
    "             size = 4)"
   ]
  },
  {
   "cell_type": "code",
   "execution_count": null,
   "metadata": {},
   "outputs": [],
   "source": [
    "lat = np.array(kc_df.lat, dtype=pd.Series)\n",
    "lon = np.array(kc_df.long, dtype=pd.Series)\n",
    "mag = np.array(kc_df.price, dtype=pd.Series)/10000000\n",
    "\n",
    "d = np.dstack((lat, lon, mag))[0]\n",
    "heatmap_data = [i for i in d.tolist()]"
   ]
  },
  {
   "cell_type": "code",
   "execution_count": null,
   "metadata": {
    "scrolled": false
   },
   "outputs": [],
   "source": [
    "import pandas as pd \n",
    "import folium\n",
    "from folium.plugins import HeatMap\n",
    "\n",
    "hmap = folium.Map(location=[47.55, -122.0], zoom_start=10, tiles='stamentoner')\n",
    "\n",
    "hm_wide = HeatMap( heatmap_data,\n",
    "                   min_opacity=0.7,\n",
    "                   max_val=mg.max(),\n",
    "                   radius=2, blur=2, \n",
    "                   max_zoom=1, \n",
    "                 )\n",
    "\n",
    "hmap.add_child(hm_wide)"
   ]
  },
  {
   "cell_type": "code",
   "execution_count": null,
   "metadata": {},
   "outputs": [],
   "source": []
  },
  {
   "cell_type": "code",
   "execution_count": null,
   "metadata": {},
   "outputs": [],
   "source": []
  },
  {
   "cell_type": "code",
   "execution_count": 3,
   "metadata": {},
   "outputs": [],
   "source": [
    "import surprise"
   ]
  },
  {
   "cell_type": "code",
   "execution_count": null,
   "metadata": {},
   "outputs": [],
   "source": []
  }
 ],
 "metadata": {
  "kernelspec": {
   "display_name": "Python 3",
   "language": "python",
   "name": "python3"
  },
  "language_info": {
   "codemirror_mode": {
    "name": "ipython",
    "version": 3
   },
   "file_extension": ".py",
   "mimetype": "text/x-python",
   "name": "python",
   "nbconvert_exporter": "python",
   "pygments_lexer": "ipython3",
   "version": "3.7.0"
  }
 },
 "nbformat": 4,
 "nbformat_minor": 2
}
